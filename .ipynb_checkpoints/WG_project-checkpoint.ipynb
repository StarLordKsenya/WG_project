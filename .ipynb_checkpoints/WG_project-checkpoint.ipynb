{
 "cells": [
  {
   "cell_type": "code",
   "execution_count": 1,
   "metadata": {},
   "outputs": [],
   "source": [
    "import numpy as np\n",
    "import pandas as pd"
   ]
  },
  {
   "cell_type": "code",
   "execution_count": 2,
   "metadata": {},
   "outputs": [
    {
     "data": {
      "text/html": [
       "<div>\n",
       "<style scoped>\n",
       "    .dataframe tbody tr th:only-of-type {\n",
       "        vertical-align: middle;\n",
       "    }\n",
       "\n",
       "    .dataframe tbody tr th {\n",
       "        vertical-align: top;\n",
       "    }\n",
       "\n",
       "    .dataframe thead th {\n",
       "        text-align: right;\n",
       "    }\n",
       "</style>\n",
       "<table border=\"1\" class=\"dataframe\">\n",
       "  <thead>\n",
       "    <tr style=\"text-align: right;\">\n",
       "      <th></th>\n",
       "      <th>dt</th>\n",
       "      <th>arena_id</th>\n",
       "      <th>account_db_id</th>\n",
       "      <th>battle_num</th>\n",
       "    </tr>\n",
       "  </thead>\n",
       "  <tbody>\n",
       "    <tr>\n",
       "      <th>0</th>\n",
       "      <td>2017-06-26</td>\n",
       "      <td>addy424dadNN7yd</td>\n",
       "      <td>yca77daT2N</td>\n",
       "      <td>4042</td>\n",
       "    </tr>\n",
       "    <tr>\n",
       "      <th>1</th>\n",
       "      <td>2017-06-26</td>\n",
       "      <td>addy424dadNN7yd</td>\n",
       "      <td>ycyN7ycdc1</td>\n",
       "      <td>6849</td>\n",
       "    </tr>\n",
       "    <tr>\n",
       "      <th>2</th>\n",
       "      <td>2017-06-26</td>\n",
       "      <td>addy424dadNN7yd</td>\n",
       "      <td>ycd2aTy4T2</td>\n",
       "      <td>7258</td>\n",
       "    </tr>\n",
       "    <tr>\n",
       "      <th>3</th>\n",
       "      <td>2017-06-26</td>\n",
       "      <td>addy424dadNN7yd</td>\n",
       "      <td>ycacN1yy7T</td>\n",
       "      <td>2670</td>\n",
       "    </tr>\n",
       "    <tr>\n",
       "      <th>4</th>\n",
       "      <td>2017-06-26</td>\n",
       "      <td>addy424dadNN7yd</td>\n",
       "      <td>yc427cdNdT</td>\n",
       "      <td>2910</td>\n",
       "    </tr>\n",
       "    <tr>\n",
       "      <th>...</th>\n",
       "      <td>...</td>\n",
       "      <td>...</td>\n",
       "      <td>...</td>\n",
       "      <td>...</td>\n",
       "    </tr>\n",
       "    <tr>\n",
       "      <th>1080356</th>\n",
       "      <td>2017-07-04</td>\n",
       "      <td>221Ny1dac247a7TT7</td>\n",
       "      <td>yc427cdNdT</td>\n",
       "      <td>3460</td>\n",
       "    </tr>\n",
       "    <tr>\n",
       "      <th>1080357</th>\n",
       "      <td>2017-07-04</td>\n",
       "      <td>221Ny1dac247a7TT7</td>\n",
       "      <td>yc22221211</td>\n",
       "      <td>5873</td>\n",
       "    </tr>\n",
       "    <tr>\n",
       "      <th>1080358</th>\n",
       "      <td>2017-07-04</td>\n",
       "      <td>221Ny1dac247a7TT7</td>\n",
       "      <td>yc2a12c41y</td>\n",
       "      <td>6213</td>\n",
       "    </tr>\n",
       "    <tr>\n",
       "      <th>1080359</th>\n",
       "      <td>2017-07-04</td>\n",
       "      <td>221Ny1dac247a7TT7</td>\n",
       "      <td>yc4dTdaNN2</td>\n",
       "      <td>6313</td>\n",
       "    </tr>\n",
       "    <tr>\n",
       "      <th>1080360</th>\n",
       "      <td>2017-07-04</td>\n",
       "      <td>221Ny1dac247a7TT7</td>\n",
       "      <td>ycacN4c121</td>\n",
       "      <td>1915</td>\n",
       "    </tr>\n",
       "  </tbody>\n",
       "</table>\n",
       "<p>1080361 rows × 4 columns</p>\n",
       "</div>"
      ],
      "text/plain": [
       "                 dt           arena_id account_db_id  battle_num\n",
       "0        2017-06-26    addy424dadNN7yd    yca77daT2N        4042\n",
       "1        2017-06-26    addy424dadNN7yd    ycyN7ycdc1        6849\n",
       "2        2017-06-26    addy424dadNN7yd    ycd2aTy4T2        7258\n",
       "3        2017-06-26    addy424dadNN7yd    ycacN1yy7T        2670\n",
       "4        2017-06-26    addy424dadNN7yd    yc427cdNdT        2910\n",
       "...             ...                ...           ...         ...\n",
       "1080356  2017-07-04  221Ny1dac247a7TT7    yc427cdNdT        3460\n",
       "1080357  2017-07-04  221Ny1dac247a7TT7    yc22221211        5873\n",
       "1080358  2017-07-04  221Ny1dac247a7TT7    yc2a12c41y        6213\n",
       "1080359  2017-07-04  221Ny1dac247a7TT7    yc4dTdaNN2        6313\n",
       "1080360  2017-07-04  221Ny1dac247a7TT7    ycacN4c121        1915\n",
       "\n",
       "[1080361 rows x 4 columns]"
      ]
     },
     "execution_count": 2,
     "metadata": {},
     "output_type": "execute_result"
    }
   ],
   "source": [
    "members = pd.read_csv('proj3_team3/data_proj3_team3_arena_members.csv')\n",
    "members"
   ]
  },
  {
   "cell_type": "code",
   "execution_count": 3,
   "metadata": {
    "scrolled": true
   },
   "outputs": [
    {
     "name": "stdout",
     "output_type": "stream",
     "text": [
      "<class 'pandas.core.frame.DataFrame'>\n",
      "RangeIndex: 1080361 entries, 0 to 1080360\n",
      "Data columns (total 4 columns):\n",
      " #   Column         Non-Null Count    Dtype \n",
      "---  ------         --------------    ----- \n",
      " 0   dt             1080361 non-null  object\n",
      " 1   arena_id       1080361 non-null  object\n",
      " 2   account_db_id  1080361 non-null  object\n",
      " 3   battle_num     1080361 non-null  int64 \n",
      "dtypes: int64(1), object(3)\n",
      "memory usage: 33.0+ MB\n"
     ]
    }
   ],
   "source": [
    "members.info()"
   ]
  },
  {
   "cell_type": "code",
   "execution_count": 22,
   "metadata": {},
   "outputs": [],
   "source": [
    "# pd.set_option('display.max_rows', 10)\n",
    "# pd.set_option('display.min_rows', 10)"
   ]
  },
  {
   "cell_type": "code",
   "execution_count": 21,
   "metadata": {
    "scrolled": true
   },
   "outputs": [
    {
     "data": {
      "text/plain": [
       "0         2017-06-26\n",
       "1         2017-06-26\n",
       "2         2017-06-26\n",
       "3         2017-06-26\n",
       "4         2017-06-26\n",
       "             ...    \n",
       "1080356   2017-07-04\n",
       "1080357   2017-07-04\n",
       "1080358   2017-07-04\n",
       "1080359   2017-07-04\n",
       "1080360   2017-07-04\n",
       "Name: dt, Length: 1080361, dtype: datetime64[ns]"
      ]
     },
     "execution_count": 21,
     "metadata": {},
     "output_type": "execute_result"
    }
   ],
   "source": [
    "members\n",
    "members['dt'] = pd.to_datetime(members['dt'])\n",
    "members['dt']"
   ]
  },
  {
   "cell_type": "code",
   "execution_count": 23,
   "metadata": {
    "scrolled": true
   },
   "outputs": [],
   "source": [
    "members['arena_id'] = pd.Categorical(members['arena_id'])\n",
    "members['account_db_id'] = pd.Categorical(members['account_db_id'])"
   ]
  },
  {
   "cell_type": "code",
   "execution_count": 31,
   "metadata": {},
   "outputs": [
    {
     "data": {
      "text/html": [
       "<div>\n",
       "<style scoped>\n",
       "    .dataframe tbody tr th:only-of-type {\n",
       "        vertical-align: middle;\n",
       "    }\n",
       "\n",
       "    .dataframe tbody tr th {\n",
       "        vertical-align: top;\n",
       "    }\n",
       "\n",
       "    .dataframe thead th {\n",
       "        text-align: right;\n",
       "    }\n",
       "</style>\n",
       "<table border=\"1\" class=\"dataframe\">\n",
       "  <thead>\n",
       "    <tr style=\"text-align: right;\">\n",
       "      <th></th>\n",
       "      <th>battle_num</th>\n",
       "    </tr>\n",
       "  </thead>\n",
       "  <tbody>\n",
       "    <tr>\n",
       "      <th>count</th>\n",
       "      <td>1080361.0</td>\n",
       "    </tr>\n",
       "    <tr>\n",
       "      <th>mean</th>\n",
       "      <td>3057.0</td>\n",
       "    </tr>\n",
       "    <tr>\n",
       "      <th>std</th>\n",
       "      <td>2308.2</td>\n",
       "    </tr>\n",
       "    <tr>\n",
       "      <th>min</th>\n",
       "      <td>1.0</td>\n",
       "    </tr>\n",
       "    <tr>\n",
       "      <th>25%</th>\n",
       "      <td>907.0</td>\n",
       "    </tr>\n",
       "    <tr>\n",
       "      <th>50%</th>\n",
       "      <td>2745.0</td>\n",
       "    </tr>\n",
       "    <tr>\n",
       "      <th>75%</th>\n",
       "      <td>5040.0</td>\n",
       "    </tr>\n",
       "    <tr>\n",
       "      <th>max</th>\n",
       "      <td>7499.0</td>\n",
       "    </tr>\n",
       "  </tbody>\n",
       "</table>\n",
       "</div>"
      ],
      "text/plain": [
       "       battle_num\n",
       "count   1080361.0\n",
       "mean       3057.0\n",
       "std        2308.2\n",
       "min           1.0\n",
       "25%         907.0\n",
       "50%        2745.0\n",
       "75%        5040.0\n",
       "max        7499.0"
      ]
     },
     "execution_count": 31,
     "metadata": {},
     "output_type": "execute_result"
    }
   ],
   "source": [
    "pd.set_option('display.float_format', lambda x: '%.1f' % x)\n",
    "members.describe()"
   ]
  },
  {
   "cell_type": "code",
   "execution_count": 26,
   "metadata": {},
   "outputs": [
    {
     "data": {
      "text/html": [
       "<div>\n",
       "<style scoped>\n",
       "    .dataframe tbody tr th:only-of-type {\n",
       "        vertical-align: middle;\n",
       "    }\n",
       "\n",
       "    .dataframe tbody tr th {\n",
       "        vertical-align: top;\n",
       "    }\n",
       "\n",
       "    .dataframe thead th {\n",
       "        text-align: right;\n",
       "    }\n",
       "</style>\n",
       "<table border=\"1\" class=\"dataframe\">\n",
       "  <thead>\n",
       "    <tr style=\"text-align: right;\">\n",
       "      <th></th>\n",
       "      <th>arena_id</th>\n",
       "      <th>account_db_id</th>\n",
       "    </tr>\n",
       "  </thead>\n",
       "  <tbody>\n",
       "    <tr>\n",
       "      <th>count</th>\n",
       "      <td>1080361</td>\n",
       "      <td>1080361</td>\n",
       "    </tr>\n",
       "    <tr>\n",
       "      <th>unique</th>\n",
       "      <td>114210</td>\n",
       "      <td>238408</td>\n",
       "    </tr>\n",
       "    <tr>\n",
       "      <th>top</th>\n",
       "      <td>2aaaaa2TTc2TTd2y</td>\n",
       "      <td>yc427cdNdT</td>\n",
       "    </tr>\n",
       "    <tr>\n",
       "      <th>freq</th>\n",
       "      <td>30</td>\n",
       "      <td>7759</td>\n",
       "    </tr>\n",
       "  </tbody>\n",
       "</table>\n",
       "</div>"
      ],
      "text/plain": [
       "                arena_id account_db_id\n",
       "count            1080361       1080361\n",
       "unique            114210        238408\n",
       "top     2aaaaa2TTc2TTd2y    yc427cdNdT\n",
       "freq                  30          7759"
      ]
     },
     "execution_count": 26,
     "metadata": {},
     "output_type": "execute_result"
    }
   ],
   "source": [
    "members.describe(include='category')"
   ]
  },
  {
   "cell_type": "code",
   "execution_count": 27,
   "metadata": {},
   "outputs": [
    {
     "data": {
      "text/plain": [
       "count                 1080361\n",
       "unique                    365\n",
       "top       2017-05-30 00:00:00\n",
       "freq                     7142\n",
       "first     2017-01-01 00:00:00\n",
       "last      2017-12-31 00:00:00\n",
       "Name: dt, dtype: object"
      ]
     },
     "execution_count": 27,
     "metadata": {},
     "output_type": "execute_result"
    }
   ],
   "source": [
    "members.describe(include = )"
   ]
  },
  {
   "cell_type": "code",
   "execution_count": 28,
   "metadata": {},
   "outputs": [
    {
     "data": {
      "text/plain": [
       "0"
      ]
     },
     "execution_count": 28,
     "metadata": {},
     "output_type": "execute_result"
    }
   ],
   "source": [
    "len(members) - len(members.drop_duplicates())"
   ]
  }
 ],
 "metadata": {
  "kernelspec": {
   "display_name": "Python 3",
   "language": "python",
   "name": "python3"
  },
  "language_info": {
   "codemirror_mode": {
    "name": "ipython",
    "version": 3
   },
   "file_extension": ".py",
   "mimetype": "text/x-python",
   "name": "python",
   "nbconvert_exporter": "python",
   "pygments_lexer": "ipython3",
   "version": "3.7.6"
  },
  "toc": {
   "base_numbering": 1,
   "nav_menu": {},
   "number_sections": true,
   "sideBar": true,
   "skip_h1_title": false,
   "title_cell": "Table of Contents",
   "title_sidebar": "Contents",
   "toc_cell": false,
   "toc_position": {},
   "toc_section_display": true,
   "toc_window_display": false
  }
 },
 "nbformat": 4,
 "nbformat_minor": 4
}
